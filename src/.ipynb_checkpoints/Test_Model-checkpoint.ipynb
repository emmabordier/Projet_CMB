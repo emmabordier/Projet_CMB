{
 "cells": [
  {
   "cell_type": "code",
   "execution_count": 1,
   "metadata": {},
   "outputs": [],
   "source": [
    "import astropy\n",
    "from astropy.io import fits\n",
    "import numpy as np\n",
    "import matplotlib.pyplot as plt\n"
   ]
  },
  {
   "cell_type": "code",
   "execution_count": 2,
   "metadata": {},
   "outputs": [
    {
     "name": "stdout",
     "output_type": "stream",
     "text": [
      "/nethome/bordier/Documents/M2_Python/PROJET\n"
     ]
    }
   ],
   "source": [
    "cd ~/Documents/M2_Python/PROJET"
   ]
  },
  {
   "cell_type": "code",
   "execution_count": 3,
   "metadata": {},
   "outputs": [
    {
     "name": "stdout",
     "output_type": "stream",
     "text": [
      "XTENSION= 'BINTABLE'           /Written by IDL:  Tue Jun  9 11:22:40 2015       BITPIX  =                    8 /                                                NAXIS   =                    2 /Binary table                                    NAXIS1  =                   10 /Number of bytes per row                         NAXIS2  =                 2479 /Number of rows                                  PCOUNT  =                    0 /Random parameter count                          GCOUNT  =                    1 /Group count                                     TFIELDS =                    3 /Number of columns                               COMMENT                                                                         COMMENT  *** End of mandatory fields ***                                        COMMENT                                                                         EXTVER  =                    1 /Extension version                               DATE    = '2015-06-09'         /Creation date                                   COMMENT                                                                         COMMENT  *** Column names ***                                                   COMMENT                                                                         TTYPE1  = 'ELL     '           / ell of bin                                     TTYPE2  = 'D_ELL   '           / D(ell) = ell(ell+1)C_l / 2pi                   TTYPE3  = 'ERR     '           / err on D(l)                                    COMMENT                                                                         COMMENT  *** Column formats ***                                                 COMMENT                                                                         TFORM1  = 'I       '           /                                                TFORM2  = 'E       '           /                                                TFORM3  = 'E       '           /                                                COMMENT                                                                         COMMENT  *** Column units ***                                                   COMMENT                                                                         TUNIT2  = 'muKcmb^2'           /uK_CMB^2                                        TUNIT3  = 'muKcmb^2'           /uK_CMB^2                                        COMMENT                                                                         COMMENT  *** Planck params ***                                                  COMMENT                                                                         EXTNAME = 'TTHILUNB'           / high-ell CMB TT power spectrum (unbinned)      L_MIN   =                   30 / lowest l                                       L_MAX   =                 2508 / highest l                                      FILENAME= 'COM_PowerSpect_CMB_R2.02.fits' / FITS filename                       PROCVER = 'DX11d   '           / Product version                                COMMENT                                                                         COMMENT ------------------------------------------------------------------------COMMENT  CMB TT Power Sepctrum (unbinned)                                       COMMENT ------------------------------------------------------------------------END                                                                                                                                                                                                                                                                                                                                                                                                                                                                                                                                                                                                                                                                                                                                                                                                                                                                                                                                                                                                                                                                                                                                                                                                                                                                                                                                                                                                                                                                                                                                                                                                                                                                                                                                                                                                                                                                                                                                                                                                                                                                                                                                                                                                                                                                                                                                                                                                                                                                                             \n"
     ]
    }
   ],
   "source": [
    "CMB=fits.open('COM_PowerSpect_CMB_R2.02.fits')\n",
    "hdu=CMB[8]      #L=30-2508 uniquement dans le header 8\n",
    "header=hdu.header\n",
    "data=hdu.data\n",
    "\n",
    "a1=data['ELL']\n",
    "\n",
    "\n",
    "print header"
   ]
  },
  {
   "cell_type": "code",
   "execution_count": 4,
   "metadata": {},
   "outputs": [
    {
     "name": "stdout",
     "output_type": "stream",
     "text": [
      "[  50   51   52 ..., 2506 2507 2508] 2459\n"
     ]
    }
   ],
   "source": [
    "data=hdu.data\n",
    "l=data['ELL']\n",
    "Dl=data['D_ELL']\n",
    "Error=data['ERR']\n",
    "\n",
    "index1=np.where(l>=50)\n",
    "\n",
    "l=l[index1]\n",
    "Dl=Dl[index1]\n",
    "Error=Error[index1]\n",
    "\n",
    "print l,len(l)"
   ]
  },
  {
   "cell_type": "code",
   "execution_count": 16,
   "metadata": {},
   "outputs": [],
   "source": [
    "test=np.arange(50,2500)*3+4\n",
    "test=np.random.normal(loc=test, scale=0.8)\n",
    "plt.plot(test, 'b.')\n",
    "plt.show()"
   ]
  },
  {
   "cell_type": "code",
   "execution_count": 42,
   "metadata": {},
   "outputs": [],
   "source": [
    "Dplanck=open(\"COM_PowerSpect_CMB-base-plikHM-TT-lowTEB-minimum-theory_R2.02.txt\")\n",
    "Planck=np.genfromtxt(\"COM_PowerSpect_CMB-base-plikHM-TT-lowTEB-minimum-theory_R2.02.txt\",skip_header=1)\n",
    "#print Planck\n",
    "Dplanck=Dplanck.read()\n",
    "\n",
    "#print Dplanck\n",
    "#print Planck[:,0]\n",
    "\n",
    "Planck_model=Planck[:,1]\n",
    "l_Planck=Planck[:,0]\n",
    "index1=np.where(l_Planck>=50)\n",
    "\n",
    "Planck_model=Planck_model[index1]\n"
   ]
  },
  {
   "cell_type": "code",
   "execution_count": 46,
   "metadata": {},
   "outputs": [],
   "source": [
    "plt.figure(1)\n",
    "#plt.plot(l,Dl/np.max(Dl),'b.')\n",
    "#plt.plot(l,modele/np.max(modele),'r')\n",
    "plt.plot(l,Dl,'b.')\n",
    "plt.plot(l,Planck_model,'r')\n",
    "plt.title('Dl en fonction de l')\n",
    "plt.xlabel('l')\n",
    "plt.ylabel('Dl')\n",
    "plt.show()\n",
    "plt.clf()"
   ]
  },
  {
   "cell_type": "code",
   "execution_count": 145,
   "metadata": {},
   "outputs": [],
   "source": [
    "def modele1(teta,l0):\n",
    "    return Planck_model*teta[0]*(l/l0)**teta[1]\n"
   ]
  },
  {
   "cell_type": "code",
   "execution_count": 78,
   "metadata": {},
   "outputs": [],
   "source": [
    "teta=(1.,0.)\n",
    "modele=modele1(teta,200.)\n",
    "plt.figure(1)\n",
    "#plt.plot(l,Dl/np.max(Dl),'b.')\n",
    "#plt.plot(l,modele/np.max(modele),'r')\n",
    "plt.plot(l,Dl,'b.',label='Donnees')\n",
    "plt.plot(l,modele,'r',label='Modele Planck')\n",
    "plt.title('Donnees et Modele(Bestfit Planck) en fonction de l')\n",
    "plt.xlabel('l')\n",
    "plt.ylabel('Dl')\n",
    "plt.legend()\n",
    "\n",
    "plt.show()\n",
    "plt.clf()"
   ]
  },
  {
   "cell_type": "code",
   "execution_count": 53,
   "metadata": {},
   "outputs": [],
   "source": [
    "#Definition Jacobiens\n",
    "\n",
    "\n",
    "def jacobien1(teta,l0):   #teta=matrice des paramètres   teta=(A,n)\n",
    "    teta=np.array(teta)\n",
    "    nombre_para=len(teta)\n",
    "    J=np.zeros((len(Planck_model),nombre_para))\n",
    "    for i in range (0,len(J)):\n",
    "        J[i,0]=Planck_model[i]*(l[i]/l0)**teta[1] #dérivée selon A\n",
    "        J[i,1]=Planck_model[i]*teta[0]*np.log(l[i])*(l[i]/l0)**teta[1]  #dérivée selon n\n",
    "    \n",
    "    return J\n",
    "\n"
   ]
  },
  {
   "cell_type": "code",
   "execution_count": 57,
   "metadata": {},
   "outputs": [
    {
     "name": "stdout",
     "output_type": "stream",
     "text": [
      "[[  7.134       27.90837256]\n",
      " [  7.235       28.44675849]\n",
      " [  7.3375      28.9922502 ]\n",
      " ..., \n",
      " [  0.385485     3.01697646]\n",
      " [  0.38439      3.00855991]\n",
      " [  0.38332      3.000338  ]]\n"
     ]
    }
   ],
   "source": [
    "print jacobien1((1.,0.),200.)"
   ]
  },
  {
   "cell_type": "code",
   "execution_count": 148,
   "metadata": {},
   "outputs": [],
   "source": [
    "#model=np.array(modele1((1.,0.),200.))\n",
    "\n",
    "A=np.arange(0.,5.,0.02)\n",
    "vrais=np.zeros(250)\n",
    "teta=[0.,0.]\n",
    "for i in range(len(A)):\n",
    "    teta[0]=A[i]\n",
    "    vrais[i]=(Dl-modele1(teta,200.)).dot(inv_sigma.dot(Dl-modele1(teta,200.)))\n",
    "\n",
    "#print vrais\n",
    "    \n",
    "plt.figure()\n",
    "plt.plot(A,vrais)\n",
    "plt.xlabel('Parametre A')\n",
    "plt.ylabel('Vraisemblance')\n",
    "plt.title('Test vraisemblance pour modele 1')\n",
    "plt.show()"
   ]
  },
  {
   "cell_type": "code",
   "execution_count": 134,
   "metadata": {},
   "outputs": [
    {
     "name": "stdout",
     "output_type": "stream",
     "text": [
      "[[  1.29766704e-09   2.53825170e-08]\n",
      " [  1.95556448e-09   3.84446927e-08]\n",
      " [  2.92445585e-09   5.77761879e-08]\n",
      " ..., \n",
      " [  7.01550436e+23   2.74532232e+25]\n",
      " [  7.05161905e+23   2.75959552e+25]\n",
      " [  7.08830188e+23   2.77409233e+25]]\n"
     ]
    }
   ],
   "source": [
    "def modele1(teta):\n",
    "    return Planck_model*teta[0]*(l/200.)**teta[1]\n",
    "\n",
    "\n",
    "def jacobien1(teta):   #teta=matrice des paramètres   teta=(A,n)\n",
    "    teta=np.array(teta)\n",
    "    nombre_para=len(teta)\n",
    "    J=np.zeros((len(Planck_model),nombre_para))\n",
    "    for i in range (0,len(J)):\n",
    "        J[i,0]=Planck_model[i]*(l[i]/200.)**teta[1]   #dérivée selon A\n",
    "        J[i,1]=Planck_model[i]*teta[0]*np.log(l[i])*(l[i]/200.)**teta[1]  #dérivée selon n\n",
    "    \n",
    "    return J\n",
    "\n",
    "print jacobien1([5.,20.])"
   ]
  },
  {
   "cell_type": "code",
   "execution_count": 141,
   "metadata": {},
   "outputs": [
    {
     "name": "stdout",
     "output_type": "stream",
     "text": [
      "0 [ 0.52918922  1.92679658] [-0.42081078 -0.07320342] 15513069687.8 3417505802.42\n",
      "1 [ 0.59698756  1.7785786 ] [ 0.06779833 -0.14821798] 3417505802.42 2395353209.17\n",
      "2 [ 0.75644363  1.61222014] [ 0.15945607 -0.16635845] 2395353209.17 2009193133.19\n",
      "3 [ 0.97343197  1.44350392] [ 0.21698834 -0.16871622] 2009193133.19 1744432659.18\n",
      "4 [ 1.23498323  1.27756444] [ 0.26155126 -0.16593948] 1744432659.18 1503824604.82\n",
      "5 [ 1.52683665  1.11648025] [ 0.29185342 -0.16108419] 1503824604.82 1265761237.25\n",
      "6 [ 1.82716194  0.96150319] [ 0.30032529 -0.15497706] 1265761237.25 1029234613.02\n",
      "7 [ 2.10549421  0.81367309] [ 0.27833227 -0.1478301 ] 1029234613.02 800979337.582\n",
      "8 [ 2.3266461   0.67395009] [ 0.22115189 -0.139723  ] 800979337.582 591207755.173\n",
      "9 [ 2.45850189  0.54326605] [ 0.13185579 -0.13068404] 591207755.173 410208331.591\n",
      "10 [ 2.48034037  0.42263593] [ 0.02183848 -0.12063012] 410208331.591 264995495.628\n",
      "11 [ 2.38816595  0.31333916] [-0.09217442 -0.10929677] 264995495.628 157386272.059\n",
      "12 [ 2.19588075  0.21710957] [-0.1922852  -0.09622959] 157386272.059 84273806.2779\n",
      "13 [ 1.93337963  0.13623133] [-0.26250111 -0.08087823] 84273806.2779 39378659.3411\n",
      "14 [ 1.64280282  0.07335439] [-0.29057681 -0.06287694] 39378659.3411 15203352.525\n",
      "15 [ 1.37263685  0.0306491 ] [-0.27016597 -0.04270529] 15203352.525 4448342.26759\n",
      "16 [ 1.16739992  0.00783536] [-0.20523694 -0.02281374] 4448342.26759 912292.281292\n",
      "17 [  1.05069569e+00  -1.07267584e-04] [-0.11670422 -0.00794263] 912292.281292 207567.686795\n",
      "18 [ 1.0089282  -0.00142841] [-0.0417675  -0.00132114] 207567.686795 146554.211005\n",
      "19 [ 1.00192425 -0.00149406] [ -7.00394854e-03  -6.56496320e-05] 146554.211005 145219.74895\n",
      "20 [ 1.00157579 -0.00149453] [ -3.48455914e-04  -4.70596449e-07] 145219.74895 145216.754147\n"
     ]
    }
   ],
   "source": [
    "sigma=np.diag(Error)\n",
    "inv_sigma=np.linalg.inv(sigma)\n",
    "\n",
    "teta=(0.95,2.)\n",
    "lbda=0.\n",
    "A=[]\n",
    "VRAISteta=[]\n",
    "VRAISdteta=[]\n",
    "for i in range(50):\n",
    "    #teta[0]=A[i]\n",
    "    J=jacobien1(teta)\n",
    "    trans_Jac=J.T\n",
    "    model=modele1(teta)\n",
    "    M=trans_Jac.dot(inv_sigma.dot(J))\n",
    "    N=trans_Jac.dot(inv_sigma.dot(Dl-model))\n",
    "    dteta=np.linalg.inv(M+lbda*np.diag(M)).dot(N)\n",
    "    teta=teta+dteta\n",
    "    \n",
    "    #teta=teta+dteta\n",
    "    vrais=0.5*(Dl-model).dot(inv_sigma.dot(Dl-model))\n",
    "    vrais2=0.5*(Dl-modele1(teta)).dot(inv_sigma.dot(Dl-modele1(teta)))\n",
    "    VRAISteta.append(vrais)\n",
    "    VRAISdteta.append(vrais2)\n",
    "    A.append(teta[0])\n",
    "    if abs(vrais2-vrais)>0.1:\n",
    "        pass\n",
    "    else:\n",
    "        break\n",
    "        \n",
    "     #A=A+dteta\n",
    "    \n",
    "    print i, teta, dteta, vrais, vrais2\n",
    "    \n",
    "        "
   ]
  },
  {
   "cell_type": "code",
   "execution_count": 143,
   "metadata": {},
   "outputs": [],
   "source": [
    "plt.figure()\n",
    "plt.plot(A,VRAISteta,'b.')\n",
    "plt.plot(A,VRAISdteta,'r.')\n",
    "plt.show()"
   ]
  },
  {
   "cell_type": "code",
   "execution_count": null,
   "metadata": {},
   "outputs": [],
   "source": []
  }
 ],
 "metadata": {
  "kernelspec": {
   "display_name": "Python 3",
   "language": "python",
   "name": "python3"
  },
  "language_info": {
   "codemirror_mode": {
    "name": "ipython",
    "version": 3
   },
   "file_extension": ".py",
   "mimetype": "text/x-python",
   "name": "python",
   "nbconvert_exporter": "python",
   "pygments_lexer": "ipython3",
   "version": "3.6.4"
  }
 },
 "nbformat": 4,
 "nbformat_minor": 1
}
