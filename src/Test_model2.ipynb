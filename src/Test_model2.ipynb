{
 "cells": [
  {
   "cell_type": "code",
   "execution_count": 1,
   "metadata": {},
   "outputs": [],
   "source": [
    "import astropy\n",
    "from astropy.io import fits\n",
    "import numpy as np\n",
    "import matplotlib.pyplot as plt\n"
   ]
  },
  {
   "cell_type": "code",
   "execution_count": 2,
   "metadata": {},
   "outputs": [
    {
     "name": "stdout",
     "output_type": "stream",
     "text": [
      "/nethome/bordier/Documents/M2_Python/PROJET\n"
     ]
    }
   ],
   "source": [
    "cd ~/Documents/M2_Python/PROJET"
   ]
  },
  {
   "cell_type": "code",
   "execution_count": 3,
   "metadata": {},
   "outputs": [
    {
     "name": "stdout",
     "output_type": "stream",
     "text": [
      "XTENSION= 'BINTABLE'           /Written by IDL:  Tue Jun  9 11:22:40 2015       BITPIX  =                    8 /                                                NAXIS   =                    2 /Binary table                                    NAXIS1  =                   10 /Number of bytes per row                         NAXIS2  =                 2479 /Number of rows                                  PCOUNT  =                    0 /Random parameter count                          GCOUNT  =                    1 /Group count                                     TFIELDS =                    3 /Number of columns                               COMMENT                                                                         COMMENT  *** End of mandatory fields ***                                        COMMENT                                                                         EXTVER  =                    1 /Extension version                               DATE    = '2015-06-09'         /Creation date                                   COMMENT                                                                         COMMENT  *** Column names ***                                                   COMMENT                                                                         TTYPE1  = 'ELL     '           / ell of bin                                     TTYPE2  = 'D_ELL   '           / D(ell) = ell(ell+1)C_l / 2pi                   TTYPE3  = 'ERR     '           / err on D(l)                                    COMMENT                                                                         COMMENT  *** Column formats ***                                                 COMMENT                                                                         TFORM1  = 'I       '           /                                                TFORM2  = 'E       '           /                                                TFORM3  = 'E       '           /                                                COMMENT                                                                         COMMENT  *** Column units ***                                                   COMMENT                                                                         TUNIT2  = 'muKcmb^2'           /uK_CMB^2                                        TUNIT3  = 'muKcmb^2'           /uK_CMB^2                                        COMMENT                                                                         COMMENT  *** Planck params ***                                                  COMMENT                                                                         EXTNAME = 'TTHILUNB'           / high-ell CMB TT power spectrum (unbinned)      L_MIN   =                   30 / lowest l                                       L_MAX   =                 2508 / highest l                                      FILENAME= 'COM_PowerSpect_CMB_R2.02.fits' / FITS filename                       PROCVER = 'DX11d   '           / Product version                                COMMENT                                                                         COMMENT ------------------------------------------------------------------------COMMENT  CMB TT Power Sepctrum (unbinned)                                       COMMENT ------------------------------------------------------------------------END                                                                                                                                                                                                                                                                                                                                                                                                                                                                                                                                                                                                                                                                                                                                                                                                                                                                                                                                                                                                                                                                                                                                                                                                                                                                                                                                                                                                                                                                                                                                                                                                                                                                                                                                                                                                                                                                                                                                                                                                                                                                                                                                                                                                                                                                                                                                                                                                                                                                                             \n"
     ]
    }
   ],
   "source": [
    "CMB=fits.open('COM_PowerSpect_CMB_R2.02.fits')\n",
    "hdu=CMB[8]      #L=30-2508 uniquement dans le header 8\n",
    "header=hdu.header\n",
    "data=hdu.data\n",
    "\n",
    "a1=data['ELL']\n",
    "\n",
    "\n",
    "print header"
   ]
  },
  {
   "cell_type": "code",
   "execution_count": 54,
   "metadata": {},
   "outputs": [],
   "source": [
    "data=hdu.data\n",
    "l=data['ELL']\n",
    "Dl=data['D_ELL']\n",
    "Error=data['ERR']\n",
    "\n",
    "index1=np.where((l>=50)&(l<500))\n",
    "\n",
    "l=l[index1]\n",
    "Dl=Dl[index1]\n",
    "Error=Error[index1]\n",
    "\n",
    "#print l,len(l)\n",
    "\n",
    "plt.figure(1)\n",
    "#plt.plot(l,Dl/np.max(Dl),'b.')\n",
    "#plt.plot(l,modele/np.max(modele),'r')\n",
    "plt.errorbar(l,Dl,Error,ecolor='r')\n",
    "plt.title('Dl en fonction de l')\n",
    "plt.xlabel('l')\n",
    "plt.ylabel('Dl')\n",
    "plt.show()\n",
    "plt.clf()\n"
   ]
  },
  {
   "cell_type": "code",
   "execution_count": 9,
   "metadata": {},
   "outputs": [],
   "source": [
    "Dplanck=open(\"COM_PowerSpect_CMB-base-plikHM-TT-lowTEB-minimum-theory_R2.02.txt\")\n",
    "Planck=np.genfromtxt(\"COM_PowerSpect_CMB-base-plikHM-TT-lowTEB-minimum-theory_R2.02.txt\",skip_header=1)\n",
    "#print Planck\n",
    "Dplanck=Dplanck.read()\n",
    "\n",
    "#print Dplanck\n",
    "#print Planck[:,0]\n",
    "\n",
    "Planck_model=Planck[:,1]\n",
    "l_Planck=Planck[:,0]\n",
    "index1=np.where(l_Planck>=50)\n",
    "\n",
    "Planck_model=Planck_model[index1]"
   ]
  },
  {
   "cell_type": "code",
   "execution_count": 23,
   "metadata": {},
   "outputs": [],
   "source": [
    "def modele2(teta,l0):  #teta=(A,n,hp,lp,wp)\n",
    "    exp=np.exp(-(l-teta[3])**2/(2*teta[4]**2))\n",
    "    L= teta[0]*(l/l0)**teta[1]\n",
    "    return L*(1+teta[2]*exp)\n",
    "\n",
    "def jacobien2(teta,l0):   #teta=(A,n,hp,lp,wp)\n",
    "    teta=np.array(teta)\n",
    "    nombre_para=len(teta)\n",
    "    J=np.zeros((len(Dl),nombre_para))\n",
    "    for i in range (0,len(J)):\n",
    "        exp=np.exp(-(l[i]-teta[3])**2/(2*teta[4]**2))\n",
    "        L= teta[0]*(l[i]/l0)**teta[1]  #A*l^n/lo\n",
    "        J[i,0]= (l[i]/l0)**teta[1]*(1+teta[2]*exp)   #derivee selon A\n",
    "        J[i,1]=L*np.log(l[i]/l0)*(1+teta[2]*exp)  #derivee selon n\n",
    "        J[i,2]=L*exp #derivee selon hp\n",
    "        J[i,3]=L*teta[2]*(l[i]-teta[3])/teta[4]**2*exp   #derivee selon lp\n",
    "        J[i,4]=L*2*(l[i]-teta[3])**2/teta[4]**3*teta[2]*exp   #derivee selon wp\n",
    "        \n",
    "    return J"
   ]
  },
  {
   "cell_type": "code",
   "execution_count": 57,
   "metadata": {},
   "outputs": [],
   "source": [
    "#teta=(1.15,0.17,5000.,220.,92.)     #On trouve les paramètres en fonction de l'allure des Dl\n",
    "#tetaLM1=[  1.55933375e+03,2.42232956e-01 ,2.72230717e+00 ,2.07495189e+02, 7.41392799e+01]\n",
    "tetaLM0001=[  1.55957038e+03, 2.42085338e-01, 2.72183342e+00,2.07503266e+02,7.41388733e+01]\n",
    "modele=modele2(tetaLM0001,200.)\n",
    "plt.figure(1)\n",
    "#plt.plot(l,Dl/np.max(Dl),'b.')\n",
    "#plt.plot(l,modele/np.max(modele),'r')\n",
    "plt.plot(l,Dl,'b.',label='Donnees')\n",
    "plt.plot(l,modele,'r',label='Modele Gaussien')\n",
    "plt.title('Donnees et Modele2 en fonction de l')\n",
    "plt.xlabel('l')\n",
    "plt.ylabel('Dl')\n",
    "plt.legend()\n",
    "\n",
    "plt.show()\n",
    "plt.clf()"
   ]
  },
  {
   "cell_type": "code",
   "execution_count": 56,
   "metadata": {},
   "outputs": [
    {
     "name": "stdout",
     "output_type": "stream",
     "text": [
      "0 [  1.98697762e+03  -1.45875202e-01  -8.63055063e+06   2.26493791e+02\n",
      "   8.00170107e+01] [  1.98582762e+03  -3.15875202e-01  -8.63555063e+06   6.49379123e+00\n",
      "  -1.19829893e+01] 1206684.73296 4.56286625244e+19\n",
      "1 [  2.39719774e+03  -1.45876042e-01   1.73064083e+06   2.26493816e+02\n",
      "   8.00170116e+01] [  4.10220123e+02  -8.40411829e-07   1.03611915e+07   2.52585710e-05\n",
      "   9.33046636e-07] 4.56286625244e+19 2.67051844707e+18\n",
      "2 [  2.24741876e+03  -1.45872355e-01   1.08503625e+05   2.26493706e+02\n",
      "   8.00170103e+01] [ -1.49778984e+02   3.68753246e-06  -1.62213721e+06  -1.10175812e-04\n",
      "  -1.32655697e-06] 2.67051844707e+18 9.22614934982e+15\n",
      "3 [  2.24036120e+03  -1.45809445e-01   3.41560655e+02   2.26491828e+02\n",
      "   8.00169898e+01] [ -7.05755442e+00   6.29092982e-05  -1.08162064e+05  -1.87863792e-03\n",
      "  -2.04527761e-05] 9.22614934982e+15 90133974121.4\n",
      "4 [  2.20767106e+03  -1.26974973e-01   5.91066797e+00   2.25925425e+02\n",
      "   8.00091827e+01] [ -3.26901431e+01   1.88344723e-02  -3.35649987e+02  -5.66402701e-01\n",
      "  -7.80712431e-03] 90133974121.4 15752814.996\n",
      "5 [  1.88124600e+03   6.61741938e-02   2.58729300e+00   2.17895600e+02\n",
      "   7.81850820e+01] [ -3.26425065e+02   1.93149167e-01  -3.32337497e+00  -8.02982494e+00\n",
      "  -1.82410066e+00] 15752814.996 427130.505196\n",
      "6 [  1.70678526e+03   1.64053040e-01   2.44228132e+00   2.11270039e+02\n",
      "   7.46416680e+01] [ -1.74460737e+02   9.78788457e-02  -1.45011678e-01  -6.62556141e+00\n",
      "  -3.54341402e+00] 427130.505196 133220.489754\n",
      "7 [  1.60050957e+03   2.14183039e-01   2.62643642e+00   2.08876391e+02\n",
      "   7.37625692e+01] [ -1.06275688e+02   5.01299991e-02   1.84155099e-01  -2.39364808e+00\n",
      "  -8.79098806e-01] 133220.489754 121871.663924\n",
      "8 [  1.56753627e+03   2.35826262e-01   2.70261800e+00   2.07868530e+02\n",
      "   7.38499832e+01] [ -3.29733055e+01   2.16432238e-02   7.61815744e-02  -1.00786085e+00\n",
      "   8.74139603e-02] 121871.663924 121653.551974\n",
      "9 [  1.55927549e+03   2.41819012e-01   2.72162027e+00   2.07536775e+02\n",
      "   7.40110639e+01] [ -8.26077220e+00   5.99274951e-03   1.90022711e-02  -3.31754572e-01\n",
      "   1.61080733e-01] 121653.551974 121652.325941\n",
      "10 [  1.55824841e+03   2.42776972e-01   2.72426967e+00   2.07471544e+02\n",
      "   7.41001127e+01] [ -1.02708826e+00   9.57960432e-04   2.64940234e-03  -6.52311139e-02\n",
      "   8.90487985e-02] 121652.325941 121643.445835\n",
      "11 [  1.55881857e+03   2.42529026e-01   2.72330006e+00   2.07480129e+02\n",
      "   7.41323224e+01] [  5.70161734e-01  -2.47946075e-04  -9.69611827e-04   8.58549738e-03\n",
      "   3.22097097e-02] 121643.445835 121640.370708\n",
      "12 [  1.55933375e+03   2.42232956e-01   2.72230717e+00   2.07495189e+02\n",
      "   7.41392799e+01] [  5.15187411e-01  -2.96070601e-04  -9.92885162e-04   1.50594677e-02\n",
      "   6.95746413e-03] 121640.370708 121639.933822\n",
      "13 [  1.55957038e+03   2.42085338e-01   2.72183342e+00   2.07503266e+02\n",
      "   7.41388733e+01] [  2.36628607e-01  -1.47617676e-04  -4.73758336e-04   8.07690736e-03\n",
      "  -4.06586682e-04] 121639.933822 121639.911409\n"
     ]
    }
   ],
   "source": [
    "sigma=np.diag(Error)\n",
    "inv_sigma=np.linalg.inv(sigma)\n",
    "\n",
    "teta= (1.15,0.17,5000.,220.,92.) \n",
    "lbda=0.\n",
    "A=[]\n",
    "VRAISteta=[]\n",
    "VRAISdteta=[]\n",
    "for i in range(50):\n",
    "    #teta[0]=A[i]\n",
    "    J=jacobien2(teta,200.)\n",
    "    trans_Jac=J.T\n",
    "    model=modele2(teta,200.)\n",
    "    M=trans_Jac.dot(inv_sigma.dot(J))\n",
    "    N=trans_Jac.dot(inv_sigma.dot(Dl-model))\n",
    "    dteta=np.linalg.inv(M+lbda*np.diag(M)).dot(N)\n",
    "    teta=teta+dteta\n",
    "    \n",
    "    #teta=teta+dteta\n",
    "    vrais=0.5*(Dl-model).dot(inv_sigma.dot(Dl-model))\n",
    "    vrais2=0.5*(Dl-modele2(teta,200.)).dot(inv_sigma.dot(Dl-modele2(teta,200.)))\n",
    "    VRAISteta.append(vrais)\n",
    "    VRAISdteta.append(vrais2)\n",
    "    A.append(teta[0])\n",
    "    if abs(vrais2-vrais)>0.001:\n",
    "        pass\n",
    "    else:\n",
    "        break\n",
    "        \n",
    "     #A=A+dteta\n",
    "    \n",
    "    print i, teta, dteta, vrais, vrais2"
   ]
  },
  {
   "cell_type": "code",
   "execution_count": null,
   "metadata": {},
   "outputs": [],
   "source": []
  }
 ],
 "metadata": {
  "kernelspec": {
   "display_name": "Python 3",
   "language": "python",
   "name": "python3"
  },
  "language_info": {
   "codemirror_mode": {
    "name": "ipython",
    "version": 3
   },
   "file_extension": ".py",
   "mimetype": "text/x-python",
   "name": "python",
   "nbconvert_exporter": "python",
   "pygments_lexer": "ipython3",
   "version": "3.6.4"
  }
 },
 "nbformat": 4,
 "nbformat_minor": 1
}
